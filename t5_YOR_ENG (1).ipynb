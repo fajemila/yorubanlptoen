{
  "nbformat": 4,
  "nbformat_minor": 0,
  "metadata": {
    "accelerator": "GPU",
    "colab": {
      "name": "t5_YOR_ENG.ipynb",
      "provenance": [],
      "collapsed_sections": []
    },
    "kernelspec": {
      "display_name": "Python 3",
      "language": "python",
      "name": "python3"
    },
    "language_info": {
      "codemirror_mode": {
        "name": "ipython",
        "version": 3
      },
      "file_extension": ".py",
      "mimetype": "text/x-python",
      "name": "python",
      "nbconvert_exporter": "python",
      "pygments_lexer": "ipython3",
      "version": "3.7.1"
    },
    "widgets": {
      "application/vnd.jupyter.widget-state+json": {
        "bd915ff1b42747f5a60b3dbb9160357b": {
          "model_module": "@jupyter-widgets/controls",
          "model_name": "HBoxModel",
          "state": {
            "_dom_classes": [],
            "_model_module": "@jupyter-widgets/controls",
            "_model_module_version": "1.5.0",
            "_model_name": "HBoxModel",
            "_view_count": null,
            "_view_module": "@jupyter-widgets/controls",
            "_view_module_version": "1.5.0",
            "_view_name": "HBoxView",
            "box_style": "",
            "children": [
              "IPY_MODEL_5a48add491714b1c82e7b93597982693",
              "IPY_MODEL_109d6258abfe4726bc7baa8d21a2d6cf"
            ],
            "layout": "IPY_MODEL_9c4299cef85c4e78b29f5dd62c1bc7b8"
          }
        },
        "9c4299cef85c4e78b29f5dd62c1bc7b8": {
          "model_module": "@jupyter-widgets/base",
          "model_name": "LayoutModel",
          "state": {
            "_model_module": "@jupyter-widgets/base",
            "_model_module_version": "1.2.0",
            "_model_name": "LayoutModel",
            "_view_count": null,
            "_view_module": "@jupyter-widgets/base",
            "_view_module_version": "1.2.0",
            "_view_name": "LayoutView",
            "align_content": null,
            "align_items": null,
            "align_self": null,
            "border": null,
            "bottom": null,
            "display": null,
            "flex": null,
            "flex_flow": null,
            "grid_area": null,
            "grid_auto_columns": null,
            "grid_auto_flow": null,
            "grid_auto_rows": null,
            "grid_column": null,
            "grid_gap": null,
            "grid_row": null,
            "grid_template_areas": null,
            "grid_template_columns": null,
            "grid_template_rows": null,
            "height": null,
            "justify_content": null,
            "justify_items": null,
            "left": null,
            "margin": null,
            "max_height": null,
            "max_width": null,
            "min_height": null,
            "min_width": null,
            "object_fit": null,
            "object_position": null,
            "order": null,
            "overflow": null,
            "overflow_x": null,
            "overflow_y": null,
            "padding": null,
            "right": null,
            "top": null,
            "visibility": null,
            "width": null
          }
        },
        "5a48add491714b1c82e7b93597982693": {
          "model_module": "@jupyter-widgets/controls",
          "model_name": "FloatProgressModel",
          "state": {
            "_dom_classes": [],
            "_model_module": "@jupyter-widgets/controls",
            "_model_module_version": "1.5.0",
            "_model_name": "FloatProgressModel",
            "_view_count": null,
            "_view_module": "@jupyter-widgets/controls",
            "_view_module_version": "1.5.0",
            "_view_name": "ProgressView",
            "bar_style": "success",
            "description": "Downloading: 100%",
            "description_tooltip": null,
            "layout": "IPY_MODEL_455f24effb0c44348c863a16308ef7ed",
            "max": 4309802,
            "min": 0,
            "orientation": "horizontal",
            "style": "IPY_MODEL_0502e7dbc362469b8ab735caa0842d22",
            "value": 4309802
          }
        },
        "109d6258abfe4726bc7baa8d21a2d6cf": {
          "model_module": "@jupyter-widgets/controls",
          "model_name": "HTMLModel",
          "state": {
            "_dom_classes": [],
            "_model_module": "@jupyter-widgets/controls",
            "_model_module_version": "1.5.0",
            "_model_name": "HTMLModel",
            "_view_count": null,
            "_view_module": "@jupyter-widgets/controls",
            "_view_module_version": "1.5.0",
            "_view_name": "HTMLView",
            "description": "",
            "description_tooltip": null,
            "layout": "IPY_MODEL_c6e1d44f20b64fc68f385b02c5efda33",
            "placeholder": "​",
            "style": "IPY_MODEL_2aaf4337e6794b5695c40368f0c84a75",
            "value": " 4.31M/4.31M [00:00&lt;00:00, 27.1MB/s]"
          }
        },
        "0502e7dbc362469b8ab735caa0842d22": {
          "model_module": "@jupyter-widgets/controls",
          "model_name": "ProgressStyleModel",
          "state": {
            "_model_module": "@jupyter-widgets/controls",
            "_model_module_version": "1.5.0",
            "_model_name": "ProgressStyleModel",
            "_view_count": null,
            "_view_module": "@jupyter-widgets/base",
            "_view_module_version": "1.2.0",
            "_view_name": "StyleView",
            "bar_color": null,
            "description_width": "initial"
          }
        },
        "455f24effb0c44348c863a16308ef7ed": {
          "model_module": "@jupyter-widgets/base",
          "model_name": "LayoutModel",
          "state": {
            "_model_module": "@jupyter-widgets/base",
            "_model_module_version": "1.2.0",
            "_model_name": "LayoutModel",
            "_view_count": null,
            "_view_module": "@jupyter-widgets/base",
            "_view_module_version": "1.2.0",
            "_view_name": "LayoutView",
            "align_content": null,
            "align_items": null,
            "align_self": null,
            "border": null,
            "bottom": null,
            "display": null,
            "flex": null,
            "flex_flow": null,
            "grid_area": null,
            "grid_auto_columns": null,
            "grid_auto_flow": null,
            "grid_auto_rows": null,
            "grid_column": null,
            "grid_gap": null,
            "grid_row": null,
            "grid_template_areas": null,
            "grid_template_columns": null,
            "grid_template_rows": null,
            "height": null,
            "justify_content": null,
            "justify_items": null,
            "left": null,
            "margin": null,
            "max_height": null,
            "max_width": null,
            "min_height": null,
            "min_width": null,
            "object_fit": null,
            "object_position": null,
            "order": null,
            "overflow": null,
            "overflow_x": null,
            "overflow_y": null,
            "padding": null,
            "right": null,
            "top": null,
            "visibility": null,
            "width": null
          }
        },
        "2aaf4337e6794b5695c40368f0c84a75": {
          "model_module": "@jupyter-widgets/controls",
          "model_name": "DescriptionStyleModel",
          "state": {
            "_model_module": "@jupyter-widgets/controls",
            "_model_module_version": "1.5.0",
            "_model_name": "DescriptionStyleModel",
            "_view_count": null,
            "_view_module": "@jupyter-widgets/base",
            "_view_module_version": "1.2.0",
            "_view_name": "StyleView",
            "description_width": ""
          }
        },
        "c6e1d44f20b64fc68f385b02c5efda33": {
          "model_module": "@jupyter-widgets/base",
          "model_name": "LayoutModel",
          "state": {
            "_model_module": "@jupyter-widgets/base",
            "_model_module_version": "1.2.0",
            "_model_name": "LayoutModel",
            "_view_count": null,
            "_view_module": "@jupyter-widgets/base",
            "_view_module_version": "1.2.0",
            "_view_name": "LayoutView",
            "align_content": null,
            "align_items": null,
            "align_self": null,
            "border": null,
            "bottom": null,
            "display": null,
            "flex": null,
            "flex_flow": null,
            "grid_area": null,
            "grid_auto_columns": null,
            "grid_auto_flow": null,
            "grid_auto_rows": null,
            "grid_column": null,
            "grid_gap": null,
            "grid_row": null,
            "grid_template_areas": null,
            "grid_template_columns": null,
            "grid_template_rows": null,
            "height": null,
            "justify_content": null,
            "justify_items": null,
            "left": null,
            "margin": null,
            "max_height": null,
            "max_width": null,
            "min_height": null,
            "min_width": null,
            "object_fit": null,
            "object_position": null,
            "order": null,
            "overflow": null,
            "overflow_x": null,
            "overflow_y": null,
            "padding": null,
            "right": null,
            "top": null,
            "visibility": null,
            "width": null
          }
        },
        "9f22eeed714b4491b95ef6e888505486": {
          "model_module": "@jupyter-widgets/controls",
          "model_name": "HBoxModel",
          "state": {
            "_dom_classes": [],
            "_model_module": "@jupyter-widgets/controls",
            "_model_module_version": "1.5.0",
            "_model_name": "HBoxModel",
            "_view_count": null,
            "_view_module": "@jupyter-widgets/controls",
            "_view_module_version": "1.5.0",
            "_view_name": "HBoxView",
            "box_style": "",
            "children": [
              "IPY_MODEL_8437b39366b749a78f7eb8ccf90c37a9",
              "IPY_MODEL_2ca7fc72c744425b9d39264e7845c8f3"
            ],
            "layout": "IPY_MODEL_fc25f82fe49b43e483a2e72b4c83d0f0"
          }
        },
        "fc25f82fe49b43e483a2e72b4c83d0f0": {
          "model_module": "@jupyter-widgets/base",
          "model_name": "LayoutModel",
          "state": {
            "_model_module": "@jupyter-widgets/base",
            "_model_module_version": "1.2.0",
            "_model_name": "LayoutModel",
            "_view_count": null,
            "_view_module": "@jupyter-widgets/base",
            "_view_module_version": "1.2.0",
            "_view_name": "LayoutView",
            "align_content": null,
            "align_items": null,
            "align_self": null,
            "border": null,
            "bottom": null,
            "display": null,
            "flex": null,
            "flex_flow": null,
            "grid_area": null,
            "grid_auto_columns": null,
            "grid_auto_flow": null,
            "grid_auto_rows": null,
            "grid_column": null,
            "grid_gap": null,
            "grid_row": null,
            "grid_template_areas": null,
            "grid_template_columns": null,
            "grid_template_rows": null,
            "height": null,
            "justify_content": null,
            "justify_items": null,
            "left": null,
            "margin": null,
            "max_height": null,
            "max_width": null,
            "min_height": null,
            "min_width": null,
            "object_fit": null,
            "object_position": null,
            "order": null,
            "overflow": null,
            "overflow_x": null,
            "overflow_y": null,
            "padding": null,
            "right": null,
            "top": null,
            "visibility": null,
            "width": null
          }
        },
        "8437b39366b749a78f7eb8ccf90c37a9": {
          "model_module": "@jupyter-widgets/controls",
          "model_name": "FloatProgressModel",
          "state": {
            "_dom_classes": [],
            "_model_module": "@jupyter-widgets/controls",
            "_model_module_version": "1.5.0",
            "_model_name": "FloatProgressModel",
            "_view_count": null,
            "_view_module": "@jupyter-widgets/controls",
            "_view_module_version": "1.5.0",
            "_view_name": "ProgressView",
            "bar_style": "success",
            "description": "Downloading: 100%",
            "description_tooltip": null,
            "layout": "IPY_MODEL_e28f5df1de174cb0bf99a840391fbf92",
            "max": 65,
            "min": 0,
            "orientation": "horizontal",
            "style": "IPY_MODEL_1d41872bce8447f8bf2fccb1d6321efd",
            "value": 65
          }
        },
        "2ca7fc72c744425b9d39264e7845c8f3": {
          "model_module": "@jupyter-widgets/controls",
          "model_name": "HTMLModel",
          "state": {
            "_dom_classes": [],
            "_model_module": "@jupyter-widgets/controls",
            "_model_module_version": "1.5.0",
            "_model_name": "HTMLModel",
            "_view_count": null,
            "_view_module": "@jupyter-widgets/controls",
            "_view_module_version": "1.5.0",
            "_view_name": "HTMLView",
            "description": "",
            "description_tooltip": null,
            "layout": "IPY_MODEL_af228ffec5484c438a9eb3f19931a28b",
            "placeholder": "​",
            "style": "IPY_MODEL_5c2780639a0b4b29a26aacfb59241bae",
            "value": " 65.0/65.0 [00:56&lt;00:00, 1.15B/s]"
          }
        },
        "1d41872bce8447f8bf2fccb1d6321efd": {
          "model_module": "@jupyter-widgets/controls",
          "model_name": "ProgressStyleModel",
          "state": {
            "_model_module": "@jupyter-widgets/controls",
            "_model_module_version": "1.5.0",
            "_model_name": "ProgressStyleModel",
            "_view_count": null,
            "_view_module": "@jupyter-widgets/base",
            "_view_module_version": "1.2.0",
            "_view_name": "StyleView",
            "bar_color": null,
            "description_width": "initial"
          }
        },
        "e28f5df1de174cb0bf99a840391fbf92": {
          "model_module": "@jupyter-widgets/base",
          "model_name": "LayoutModel",
          "state": {
            "_model_module": "@jupyter-widgets/base",
            "_model_module_version": "1.2.0",
            "_model_name": "LayoutModel",
            "_view_count": null,
            "_view_module": "@jupyter-widgets/base",
            "_view_module_version": "1.2.0",
            "_view_name": "LayoutView",
            "align_content": null,
            "align_items": null,
            "align_self": null,
            "border": null,
            "bottom": null,
            "display": null,
            "flex": null,
            "flex_flow": null,
            "grid_area": null,
            "grid_auto_columns": null,
            "grid_auto_flow": null,
            "grid_auto_rows": null,
            "grid_column": null,
            "grid_gap": null,
            "grid_row": null,
            "grid_template_areas": null,
            "grid_template_columns": null,
            "grid_template_rows": null,
            "height": null,
            "justify_content": null,
            "justify_items": null,
            "left": null,
            "margin": null,
            "max_height": null,
            "max_width": null,
            "min_height": null,
            "min_width": null,
            "object_fit": null,
            "object_position": null,
            "order": null,
            "overflow": null,
            "overflow_x": null,
            "overflow_y": null,
            "padding": null,
            "right": null,
            "top": null,
            "visibility": null,
            "width": null
          }
        },
        "5c2780639a0b4b29a26aacfb59241bae": {
          "model_module": "@jupyter-widgets/controls",
          "model_name": "DescriptionStyleModel",
          "state": {
            "_model_module": "@jupyter-widgets/controls",
            "_model_module_version": "1.5.0",
            "_model_name": "DescriptionStyleModel",
            "_view_count": null,
            "_view_module": "@jupyter-widgets/base",
            "_view_module_version": "1.2.0",
            "_view_name": "StyleView",
            "description_width": ""
          }
        },
        "af228ffec5484c438a9eb3f19931a28b": {
          "model_module": "@jupyter-widgets/base",
          "model_name": "LayoutModel",
          "state": {
            "_model_module": "@jupyter-widgets/base",
            "_model_module_version": "1.2.0",
            "_model_name": "LayoutModel",
            "_view_count": null,
            "_view_module": "@jupyter-widgets/base",
            "_view_module_version": "1.2.0",
            "_view_name": "LayoutView",
            "align_content": null,
            "align_items": null,
            "align_self": null,
            "border": null,
            "bottom": null,
            "display": null,
            "flex": null,
            "flex_flow": null,
            "grid_area": null,
            "grid_auto_columns": null,
            "grid_auto_flow": null,
            "grid_auto_rows": null,
            "grid_column": null,
            "grid_gap": null,
            "grid_row": null,
            "grid_template_areas": null,
            "grid_template_columns": null,
            "grid_template_rows": null,
            "height": null,
            "justify_content": null,
            "justify_items": null,
            "left": null,
            "margin": null,
            "max_height": null,
            "max_width": null,
            "min_height": null,
            "min_width": null,
            "object_fit": null,
            "object_position": null,
            "order": null,
            "overflow": null,
            "overflow_x": null,
            "overflow_y": null,
            "padding": null,
            "right": null,
            "top": null,
            "visibility": null,
            "width": null
          }
        },
        "d9f26734a3cd4fc6a86d3d8ce52542e3": {
          "model_module": "@jupyter-widgets/controls",
          "model_name": "HBoxModel",
          "state": {
            "_dom_classes": [],
            "_model_module": "@jupyter-widgets/controls",
            "_model_module_version": "1.5.0",
            "_model_name": "HBoxModel",
            "_view_count": null,
            "_view_module": "@jupyter-widgets/controls",
            "_view_module_version": "1.5.0",
            "_view_name": "HBoxView",
            "box_style": "",
            "children": [
              "IPY_MODEL_38d8bf13d72e4b9b82e0d5153c83cd1f",
              "IPY_MODEL_09d4d5dd021a4fab910953351ca555b0"
            ],
            "layout": "IPY_MODEL_81570cb7cbec4ec29dc41e655e2bfae1"
          }
        },
        "81570cb7cbec4ec29dc41e655e2bfae1": {
          "model_module": "@jupyter-widgets/base",
          "model_name": "LayoutModel",
          "state": {
            "_model_module": "@jupyter-widgets/base",
            "_model_module_version": "1.2.0",
            "_model_name": "LayoutModel",
            "_view_count": null,
            "_view_module": "@jupyter-widgets/base",
            "_view_module_version": "1.2.0",
            "_view_name": "LayoutView",
            "align_content": null,
            "align_items": null,
            "align_self": null,
            "border": null,
            "bottom": null,
            "display": null,
            "flex": null,
            "flex_flow": null,
            "grid_area": null,
            "grid_auto_columns": null,
            "grid_auto_flow": null,
            "grid_auto_rows": null,
            "grid_column": null,
            "grid_gap": null,
            "grid_row": null,
            "grid_template_areas": null,
            "grid_template_columns": null,
            "grid_template_rows": null,
            "height": null,
            "justify_content": null,
            "justify_items": null,
            "left": null,
            "margin": null,
            "max_height": null,
            "max_width": null,
            "min_height": null,
            "min_width": null,
            "object_fit": null,
            "object_position": null,
            "order": null,
            "overflow": null,
            "overflow_x": null,
            "overflow_y": null,
            "padding": null,
            "right": null,
            "top": null,
            "visibility": null,
            "width": null
          }
        },
        "38d8bf13d72e4b9b82e0d5153c83cd1f": {
          "model_module": "@jupyter-widgets/controls",
          "model_name": "FloatProgressModel",
          "state": {
            "_dom_classes": [],
            "_model_module": "@jupyter-widgets/controls",
            "_model_module_version": "1.5.0",
            "_model_name": "FloatProgressModel",
            "_view_count": null,
            "_view_module": "@jupyter-widgets/controls",
            "_view_module_version": "1.5.0",
            "_view_name": "ProgressView",
            "bar_style": "success",
            "description": "Downloading: 100%",
            "description_tooltip": null,
            "layout": "IPY_MODEL_f1079850841f44e6ac7c1cdf723534e1",
            "max": 376,
            "min": 0,
            "orientation": "horizontal",
            "style": "IPY_MODEL_ba0bee484a8a424c8b3a0f3219c398a9",
            "value": 376
          }
        },
        "09d4d5dd021a4fab910953351ca555b0": {
          "model_module": "@jupyter-widgets/controls",
          "model_name": "HTMLModel",
          "state": {
            "_dom_classes": [],
            "_model_module": "@jupyter-widgets/controls",
            "_model_module_version": "1.5.0",
            "_model_name": "HTMLModel",
            "_view_count": null,
            "_view_module": "@jupyter-widgets/controls",
            "_view_module_version": "1.5.0",
            "_view_name": "HTMLView",
            "description": "",
            "description_tooltip": null,
            "layout": "IPY_MODEL_86daa8a78cb944c8a10ba04f55dc7500",
            "placeholder": "​",
            "style": "IPY_MODEL_8f76cb86a88547fcaa951bd4c6477753",
            "value": " 376/376 [00:52&lt;00:00, 7.13B/s]"
          }
        },
        "ba0bee484a8a424c8b3a0f3219c398a9": {
          "model_module": "@jupyter-widgets/controls",
          "model_name": "ProgressStyleModel",
          "state": {
            "_model_module": "@jupyter-widgets/controls",
            "_model_module_version": "1.5.0",
            "_model_name": "ProgressStyleModel",
            "_view_count": null,
            "_view_module": "@jupyter-widgets/base",
            "_view_module_version": "1.2.0",
            "_view_name": "StyleView",
            "bar_color": null,
            "description_width": "initial"
          }
        },
        "f1079850841f44e6ac7c1cdf723534e1": {
          "model_module": "@jupyter-widgets/base",
          "model_name": "LayoutModel",
          "state": {
            "_model_module": "@jupyter-widgets/base",
            "_model_module_version": "1.2.0",
            "_model_name": "LayoutModel",
            "_view_count": null,
            "_view_module": "@jupyter-widgets/base",
            "_view_module_version": "1.2.0",
            "_view_name": "LayoutView",
            "align_content": null,
            "align_items": null,
            "align_self": null,
            "border": null,
            "bottom": null,
            "display": null,
            "flex": null,
            "flex_flow": null,
            "grid_area": null,
            "grid_auto_columns": null,
            "grid_auto_flow": null,
            "grid_auto_rows": null,
            "grid_column": null,
            "grid_gap": null,
            "grid_row": null,
            "grid_template_areas": null,
            "grid_template_columns": null,
            "grid_template_rows": null,
            "height": null,
            "justify_content": null,
            "justify_items": null,
            "left": null,
            "margin": null,
            "max_height": null,
            "max_width": null,
            "min_height": null,
            "min_width": null,
            "object_fit": null,
            "object_position": null,
            "order": null,
            "overflow": null,
            "overflow_x": null,
            "overflow_y": null,
            "padding": null,
            "right": null,
            "top": null,
            "visibility": null,
            "width": null
          }
        },
        "8f76cb86a88547fcaa951bd4c6477753": {
          "model_module": "@jupyter-widgets/controls",
          "model_name": "DescriptionStyleModel",
          "state": {
            "_model_module": "@jupyter-widgets/controls",
            "_model_module_version": "1.5.0",
            "_model_name": "DescriptionStyleModel",
            "_view_count": null,
            "_view_module": "@jupyter-widgets/base",
            "_view_module_version": "1.2.0",
            "_view_name": "StyleView",
            "description_width": ""
          }
        },
        "86daa8a78cb944c8a10ba04f55dc7500": {
          "model_module": "@jupyter-widgets/base",
          "model_name": "LayoutModel",
          "state": {
            "_model_module": "@jupyter-widgets/base",
            "_model_module_version": "1.2.0",
            "_model_name": "LayoutModel",
            "_view_count": null,
            "_view_module": "@jupyter-widgets/base",
            "_view_module_version": "1.2.0",
            "_view_name": "LayoutView",
            "align_content": null,
            "align_items": null,
            "align_self": null,
            "border": null,
            "bottom": null,
            "display": null,
            "flex": null,
            "flex_flow": null,
            "grid_area": null,
            "grid_auto_columns": null,
            "grid_auto_flow": null,
            "grid_auto_rows": null,
            "grid_column": null,
            "grid_gap": null,
            "grid_row": null,
            "grid_template_areas": null,
            "grid_template_columns": null,
            "grid_template_rows": null,
            "height": null,
            "justify_content": null,
            "justify_items": null,
            "left": null,
            "margin": null,
            "max_height": null,
            "max_width": null,
            "min_height": null,
            "min_width": null,
            "object_fit": null,
            "object_position": null,
            "order": null,
            "overflow": null,
            "overflow_x": null,
            "overflow_y": null,
            "padding": null,
            "right": null,
            "top": null,
            "visibility": null,
            "width": null
          }
        }
      }
    }
  },
  "cells": [
    {
      "cell_type": "code",
      "metadata": {
        "colab": {
          "base_uri": "https://localhost:8080/"
        },
        "id": "KF7jd0UWcier",
        "outputId": "275880aa-1644-432e-cea1-06a2a20fd084"
      },
      "source": [
        "from google.colab import drive\n",
        "drive.mount('/content/drive')"
      ],
      "execution_count": 3,
      "outputs": [
        {
          "output_type": "stream",
          "text": [
            "Mounted at /content/drive\n"
          ],
          "name": "stdout"
        }
      ]
    },
    {
      "cell_type": "code",
      "metadata": {
        "colab": {
          "base_uri": "https://localhost:8080/",
          "height": 1000
        },
        "id": "xnugXbwW60Px",
        "outputId": "29d33b38-8163-4fea-b7a7-bad1bac23b09"
      },
      "source": [
        "!pip install transformers==2.8.0\n",
        "!pip install torchtext==0.8.0"
      ],
      "execution_count": 23,
      "outputs": [
        {
          "output_type": "stream",
          "text": [
            "Collecting transformers==2.8.0\n",
            "\u001b[?25l  Downloading https://files.pythonhosted.org/packages/a3/78/92cedda05552398352ed9784908b834ee32a0bd071a9b32de287327370b7/transformers-2.8.0-py3-none-any.whl (563kB)\n",
            "\r\u001b[K     |▋                               | 10kB 25.2MB/s eta 0:00:01\r\u001b[K     |█▏                              | 20kB 16.8MB/s eta 0:00:01\r\u001b[K     |█▊                              | 30kB 14.9MB/s eta 0:00:01\r\u001b[K     |██▎                             | 40kB 14.2MB/s eta 0:00:01\r\u001b[K     |███                             | 51kB 11.2MB/s eta 0:00:01\r\u001b[K     |███▌                            | 61kB 11.5MB/s eta 0:00:01\r\u001b[K     |████                            | 71kB 11.6MB/s eta 0:00:01\r\u001b[K     |████▋                           | 81kB 11.8MB/s eta 0:00:01\r\u001b[K     |█████▎                          | 92kB 11.2MB/s eta 0:00:01\r\u001b[K     |█████▉                          | 102kB 12.2MB/s eta 0:00:01\r\u001b[K     |██████▍                         | 112kB 12.2MB/s eta 0:00:01\r\u001b[K     |███████                         | 122kB 12.2MB/s eta 0:00:01\r\u001b[K     |███████▋                        | 133kB 12.2MB/s eta 0:00:01\r\u001b[K     |████████▏                       | 143kB 12.2MB/s eta 0:00:01\r\u001b[K     |████████▊                       | 153kB 12.2MB/s eta 0:00:01\r\u001b[K     |█████████▎                      | 163kB 12.2MB/s eta 0:00:01\r\u001b[K     |█████████▉                      | 174kB 12.2MB/s eta 0:00:01\r\u001b[K     |██████████▌                     | 184kB 12.2MB/s eta 0:00:01\r\u001b[K     |███████████                     | 194kB 12.2MB/s eta 0:00:01\r\u001b[K     |███████████▋                    | 204kB 12.2MB/s eta 0:00:01\r\u001b[K     |████████████▏                   | 215kB 12.2MB/s eta 0:00:01\r\u001b[K     |████████████▉                   | 225kB 12.2MB/s eta 0:00:01\r\u001b[K     |█████████████▍                  | 235kB 12.2MB/s eta 0:00:01\r\u001b[K     |██████████████                  | 245kB 12.2MB/s eta 0:00:01\r\u001b[K     |██████████████▌                 | 256kB 12.2MB/s eta 0:00:01\r\u001b[K     |███████████████▏                | 266kB 12.2MB/s eta 0:00:01\r\u001b[K     |███████████████▊                | 276kB 12.2MB/s eta 0:00:01\r\u001b[K     |████████████████▎               | 286kB 12.2MB/s eta 0:00:01\r\u001b[K     |████████████████▉               | 296kB 12.2MB/s eta 0:00:01\r\u001b[K     |█████████████████▍              | 307kB 12.2MB/s eta 0:00:01\r\u001b[K     |██████████████████              | 317kB 12.2MB/s eta 0:00:01\r\u001b[K     |██████████████████▋             | 327kB 12.2MB/s eta 0:00:01\r\u001b[K     |███████████████████▏            | 337kB 12.2MB/s eta 0:00:01\r\u001b[K     |███████████████████▊            | 348kB 12.2MB/s eta 0:00:01\r\u001b[K     |████████████████████▍           | 358kB 12.2MB/s eta 0:00:01\r\u001b[K     |█████████████████████           | 368kB 12.2MB/s eta 0:00:01\r\u001b[K     |█████████████████████▌          | 378kB 12.2MB/s eta 0:00:01\r\u001b[K     |██████████████████████          | 389kB 12.2MB/s eta 0:00:01\r\u001b[K     |██████████████████████▊         | 399kB 12.2MB/s eta 0:00:01\r\u001b[K     |███████████████████████▎        | 409kB 12.2MB/s eta 0:00:01\r\u001b[K     |███████████████████████▉        | 419kB 12.2MB/s eta 0:00:01\r\u001b[K     |████████████████████████▍       | 430kB 12.2MB/s eta 0:00:01\r\u001b[K     |█████████████████████████       | 440kB 12.2MB/s eta 0:00:01\r\u001b[K     |█████████████████████████▋      | 450kB 12.2MB/s eta 0:00:01\r\u001b[K     |██████████████████████████▏     | 460kB 12.2MB/s eta 0:00:01\r\u001b[K     |██████████████████████████▊     | 471kB 12.2MB/s eta 0:00:01\r\u001b[K     |███████████████████████████▎    | 481kB 12.2MB/s eta 0:00:01\r\u001b[K     |████████████████████████████    | 491kB 12.2MB/s eta 0:00:01\r\u001b[K     |████████████████████████████▌   | 501kB 12.2MB/s eta 0:00:01\r\u001b[K     |█████████████████████████████   | 512kB 12.2MB/s eta 0:00:01\r\u001b[K     |█████████████████████████████▋  | 522kB 12.2MB/s eta 0:00:01\r\u001b[K     |██████████████████████████████▎ | 532kB 12.2MB/s eta 0:00:01\r\u001b[K     |██████████████████████████████▉ | 542kB 12.2MB/s eta 0:00:01\r\u001b[K     |███████████████████████████████▍| 552kB 12.2MB/s eta 0:00:01\r\u001b[K     |████████████████████████████████| 563kB 12.2MB/s eta 0:00:01\r\u001b[K     |████████████████████████████████| 573kB 12.2MB/s \n",
            "\u001b[?25hRequirement already satisfied: tqdm>=4.27 in /usr/local/lib/python3.6/dist-packages (from transformers==2.8.0) (4.41.1)\n",
            "Collecting boto3\n",
            "\u001b[?25l  Downloading https://files.pythonhosted.org/packages/94/b7/e896bcb1b68ce11eb54aabb76f3416fc52e66fddded97cf6d68ad78494f4/boto3-1.16.44-py2.py3-none-any.whl (130kB)\n",
            "\u001b[K     |████████████████████████████████| 133kB 15.4MB/s \n",
            "\u001b[?25hRequirement already satisfied: filelock in /usr/local/lib/python3.6/dist-packages (from transformers==2.8.0) (3.0.12)\n",
            "Collecting tokenizers==0.5.2\n",
            "\u001b[?25l  Downloading https://files.pythonhosted.org/packages/d1/3f/73c881ea4723e43c1e9acf317cf407fab3a278daab3a69c98dcac511c04f/tokenizers-0.5.2-cp36-cp36m-manylinux1_x86_64.whl (3.7MB)\n",
            "\u001b[K     |████████████████████████████████| 3.7MB 30.5MB/s \n",
            "\u001b[?25hCollecting sentencepiece\n",
            "\u001b[?25l  Downloading https://files.pythonhosted.org/packages/e5/2d/6d4ca4bef9a67070fa1cac508606328329152b1df10bdf31fb6e4e727894/sentencepiece-0.1.94-cp36-cp36m-manylinux2014_x86_64.whl (1.1MB)\n",
            "\u001b[K     |████████████████████████████████| 1.1MB 57.3MB/s \n",
            "\u001b[?25hRequirement already satisfied: sacremoses in /usr/local/lib/python3.6/dist-packages (from transformers==2.8.0) (0.0.43)\n",
            "Requirement already satisfied: dataclasses; python_version < \"3.7\" in /usr/local/lib/python3.6/dist-packages (from transformers==2.8.0) (0.8)\n",
            "Requirement already satisfied: numpy in /usr/local/lib/python3.6/dist-packages (from transformers==2.8.0) (1.19.4)\n",
            "Requirement already satisfied: requests in /usr/local/lib/python3.6/dist-packages (from transformers==2.8.0) (2.23.0)\n",
            "Requirement already satisfied: regex!=2019.12.17 in /usr/local/lib/python3.6/dist-packages (from transformers==2.8.0) (2019.12.20)\n",
            "Collecting s3transfer<0.4.0,>=0.3.0\n",
            "\u001b[?25l  Downloading https://files.pythonhosted.org/packages/69/79/e6afb3d8b0b4e96cefbdc690f741d7dd24547ff1f94240c997a26fa908d3/s3transfer-0.3.3-py2.py3-none-any.whl (69kB)\n",
            "\u001b[K     |████████████████████████████████| 71kB 10.6MB/s \n",
            "\u001b[?25hCollecting botocore<1.20.0,>=1.19.44\n",
            "\u001b[?25l  Downloading https://files.pythonhosted.org/packages/4a/ca/0d28c0654269b2bd74c504af1e7ced767dbf5028a8478960f51868fa35bd/botocore-1.19.44-py2.py3-none-any.whl (7.2MB)\n",
            "\u001b[K     |████████████████████████████████| 7.2MB 53.0MB/s \n",
            "\u001b[?25hCollecting jmespath<1.0.0,>=0.7.1\n",
            "  Downloading https://files.pythonhosted.org/packages/07/cb/5f001272b6faeb23c1c9e0acc04d48eaaf5c862c17709d20e3469c6e0139/jmespath-0.10.0-py2.py3-none-any.whl\n",
            "Requirement already satisfied: six in /usr/local/lib/python3.6/dist-packages (from sacremoses->transformers==2.8.0) (1.15.0)\n",
            "Requirement already satisfied: click in /usr/local/lib/python3.6/dist-packages (from sacremoses->transformers==2.8.0) (7.1.2)\n",
            "Requirement already satisfied: joblib in /usr/local/lib/python3.6/dist-packages (from sacremoses->transformers==2.8.0) (1.0.0)\n",
            "Requirement already satisfied: certifi>=2017.4.17 in /usr/local/lib/python3.6/dist-packages (from requests->transformers==2.8.0) (2020.12.5)\n",
            "Requirement already satisfied: urllib3!=1.25.0,!=1.25.1,<1.26,>=1.21.1 in /usr/local/lib/python3.6/dist-packages (from requests->transformers==2.8.0) (1.24.3)\n",
            "Requirement already satisfied: idna<3,>=2.5 in /usr/local/lib/python3.6/dist-packages (from requests->transformers==2.8.0) (2.10)\n",
            "Requirement already satisfied: chardet<4,>=3.0.2 in /usr/local/lib/python3.6/dist-packages (from requests->transformers==2.8.0) (3.0.4)\n",
            "Requirement already satisfied: python-dateutil<3.0.0,>=2.1 in /usr/local/lib/python3.6/dist-packages (from botocore<1.20.0,>=1.19.44->boto3->transformers==2.8.0) (2.8.1)\n",
            "\u001b[31mERROR: botocore 1.19.44 has requirement urllib3<1.27,>=1.25.4; python_version != \"3.4\", but you'll have urllib3 1.24.3 which is incompatible.\u001b[0m\n",
            "Installing collected packages: jmespath, botocore, s3transfer, boto3, tokenizers, sentencepiece, transformers\n",
            "  Found existing installation: tokenizers 0.9.4\n",
            "    Uninstalling tokenizers-0.9.4:\n",
            "      Successfully uninstalled tokenizers-0.9.4\n",
            "  Found existing installation: transformers 4.1.1\n",
            "    Uninstalling transformers-4.1.1:\n",
            "      Successfully uninstalled transformers-4.1.1\n",
            "Successfully installed boto3-1.16.44 botocore-1.19.44 jmespath-0.10.0 s3transfer-0.3.3 sentencepiece-0.1.94 tokenizers-0.5.2 transformers-2.8.0\n"
          ],
          "name": "stdout"
        },
        {
          "output_type": "display_data",
          "data": {
            "application/vnd.colab-display-data+json": {
              "pip_warning": {
                "packages": [
                  "tokenizers",
                  "transformers"
                ]
              }
            }
          },
          "metadata": {
            "tags": []
          }
        },
        {
          "output_type": "stream",
          "text": [
            "Requirement already satisfied: torchtext==0.8.0 in /usr/local/lib/python3.6/dist-packages (0.8.0)\n",
            "Requirement already satisfied: requests in /usr/local/lib/python3.6/dist-packages (from torchtext==0.8.0) (2.23.0)\n",
            "Requirement already satisfied: numpy in /usr/local/lib/python3.6/dist-packages (from torchtext==0.8.0) (1.19.4)\n",
            "Requirement already satisfied: torch in /usr/local/lib/python3.6/dist-packages (from torchtext==0.8.0) (1.7.0+cu101)\n",
            "Requirement already satisfied: tqdm in /usr/local/lib/python3.6/dist-packages (from torchtext==0.8.0) (4.41.1)\n",
            "Requirement already satisfied: chardet<4,>=3.0.2 in /usr/local/lib/python3.6/dist-packages (from requests->torchtext==0.8.0) (3.0.4)\n",
            "Requirement already satisfied: urllib3!=1.25.0,!=1.25.1,<1.26,>=1.21.1 in /usr/local/lib/python3.6/dist-packages (from requests->torchtext==0.8.0) (1.24.3)\n",
            "Requirement already satisfied: idna<3,>=2.5 in /usr/local/lib/python3.6/dist-packages (from requests->torchtext==0.8.0) (2.10)\n",
            "Requirement already satisfied: certifi>=2017.4.17 in /usr/local/lib/python3.6/dist-packages (from requests->torchtext==0.8.0) (2020.12.5)\n",
            "Requirement already satisfied: dataclasses in /usr/local/lib/python3.6/dist-packages (from torch->torchtext==0.8.0) (0.8)\n",
            "Requirement already satisfied: future in /usr/local/lib/python3.6/dist-packages (from torch->torchtext==0.8.0) (0.16.0)\n",
            "Requirement already satisfied: typing-extensions in /usr/local/lib/python3.6/dist-packages (from torch->torchtext==0.8.0) (3.7.4.3)\n"
          ],
          "name": "stdout"
        }
      ]
    },
    {
      "cell_type": "code",
      "metadata": {
        "colab": {
          "base_uri": "https://localhost:8080/",
          "height": 35
        },
        "id": "ezt9CF56k9MO",
        "outputId": "f2d990dd-39d7-43e8-e32f-59d4d1dd6efa"
      },
      "source": [
        "import transformers\n",
        "transformers.__version__"
      ],
      "execution_count": 1,
      "outputs": [
        {
          "output_type": "execute_result",
          "data": {
            "application/vnd.google.colaboratory.intrinsic+json": {
              "type": "string"
            },
            "text/plain": [
              "'2.8.0'"
            ]
          },
          "metadata": {
            "tags": []
          },
          "execution_count": 1
        }
      ]
    },
    {
      "cell_type": "code",
      "metadata": {
        "id": "XpJG25txC-Q8"
      },
      "source": [
        "# Importing stock libraries\n",
        "import numpy as np\n",
        "import pandas as pd\n",
        "import torch\n",
        "import torch.nn.functional as F\n",
        "from torch.utils.data import Dataset, DataLoader, RandomSampler, SequentialSampler\n",
        "\n",
        "# Importing the T5 modules from huggingface/transformers\n",
        "from transformers import T5Tokenizer, T5ForConditionalGeneration"
      ],
      "execution_count": 2,
      "outputs": []
    },
    {
      "cell_type": "code",
      "metadata": {
        "colab": {
          "base_uri": "https://localhost:8080/"
        },
        "id": "spf4aj-4DCxj",
        "outputId": "c25c32ac-a332-4e36-ab8f-9537369322d0"
      },
      "source": [
        "!nvidia-smi"
      ],
      "execution_count": 3,
      "outputs": [
        {
          "output_type": "stream",
          "text": [
            "Tue Dec 29 16:31:02 2020       \n",
            "+-----------------------------------------------------------------------------+\n",
            "| NVIDIA-SMI 460.27.04    Driver Version: 418.67       CUDA Version: 10.1     |\n",
            "|-------------------------------+----------------------+----------------------+\n",
            "| GPU  Name        Persistence-M| Bus-Id        Disp.A | Volatile Uncorr. ECC |\n",
            "| Fan  Temp  Perf  Pwr:Usage/Cap|         Memory-Usage | GPU-Util  Compute M. |\n",
            "|                               |                      |               MIG M. |\n",
            "|===============================+======================+======================|\n",
            "|   0  Tesla T4            Off  | 00000000:00:04.0 Off |                    0 |\n",
            "| N/A   40C    P8    10W /  70W |      0MiB / 15079MiB |      0%      Default |\n",
            "|                               |                      |                 ERR! |\n",
            "+-------------------------------+----------------------+----------------------+\n",
            "                                                                               \n",
            "+-----------------------------------------------------------------------------+\n",
            "| Processes:                                                                  |\n",
            "|  GPU   GI   CI        PID   Type   Process name                  GPU Memory |\n",
            "|        ID   ID                                                   Usage      |\n",
            "|=============================================================================|\n",
            "|  No running processes found                                                 |\n",
            "+-----------------------------------------------------------------------------+\n"
          ],
          "name": "stdout"
        }
      ]
    },
    {
      "cell_type": "code",
      "metadata": {
        "id": "zqoUoCznDFga"
      },
      "source": [
        "# # Setting up the device for GPU usage\n",
        "from torch import cuda\n",
        "device = 'cuda' if cuda.is_available() else 'cpu'"
      ],
      "execution_count": 4,
      "outputs": []
    },
    {
      "cell_type": "code",
      "metadata": {
        "id": "rweQ4bQzDubT"
      },
      "source": [
        "class CustomDataset(Dataset):\n",
        "\n",
        "    def __init__(self, dataframe, tokenizer, source_len, target_len):\n",
        "        self.tokenizer = tokenizer\n",
        "        self.data = dataframe\n",
        "        self.source_len = source_len\n",
        "        self.target_len = target_len\n",
        "        self.English = self.data.English\n",
        "        self.Yoruba = self.data.Yoruba\n",
        "\n",
        "    def __len__(self):\n",
        "        return len(self.English)\n",
        "\n",
        "    def __getitem__(self, index):\n",
        "        Yoruba = str(self.Yoruba[index])\n",
        "        Yoruba = ' '.join(Yoruba.split())\n",
        "\n",
        "        English = str(self.English[index])\n",
        "        English = ' '.join(English.split())\n",
        "\n",
        "        source = self.tokenizer.batch_encode_plus([Yoruba], max_length= self.source_len, pad_to_max_length=True,return_tensors='pt')\n",
        "        target = self.tokenizer.batch_encode_plus([English], max_length= self.target_len, pad_to_max_length=True,return_tensors='pt')\n",
        "\n",
        "        source_ids = source['input_ids'].squeeze()\n",
        "        source_mask = source['attention_mask'].squeeze()\n",
        "        target_ids = target['input_ids'].squeeze()\n",
        "        target_mask = target['attention_mask'].squeeze()\n",
        "\n",
        "        return {\n",
        "            'source_ids': source_ids.to(dtype=torch.long), \n",
        "            'source_mask': source_mask.to(dtype=torch.long), \n",
        "            'target_ids': target_ids.to(dtype=torch.long),\n",
        "            'target_mask': target_mask.to(dtype=torch.long)\n",
        "        }"
      ],
      "execution_count": 5,
      "outputs": []
    },
    {
      "cell_type": "code",
      "metadata": {
        "id": "mGCVKu3ecBQ8"
      },
      "source": [
        "class Inference(Dataset):\n",
        "\n",
        "    def __init__(self, dataframe, tokenizer, source_len):\n",
        "        self.tokenizer = tokenizer\n",
        "        self.data = dataframe\n",
        "        self.source_len = source_len\n",
        "        self.Yoruba = self.data.Yoruba\n",
        "\n",
        "    def __len__(self):\n",
        "        return len(self.Yoruba)\n",
        "\n",
        "    def __getitem__(self, index):\n",
        "        Yoruba = str(self.Yoruba[index])\n",
        "        Yoruba = ' '.join(Yoruba.split())\n",
        "\n",
        "        source = self.tokenizer.batch_encode_plus([Yoruba], max_length= self.source_len, pad_to_max_length=True,return_tensors='pt',truncation=True)\n",
        "\n",
        "        source_ids = source['input_ids'].squeeze()\n",
        "        source_mask = source['attention_mask'].squeeze()\n",
        "        return {\n",
        "            'source_ids': source_ids.to(dtype=torch.long), \n",
        "            'source_mask': source_mask.to(dtype=torch.long),\n",
        "        }"
      ],
      "execution_count": 6,
      "outputs": []
    },
    {
      "cell_type": "code",
      "metadata": {
        "id": "irwSh6E8JvxU"
      },
      "source": [
        "def infer(epoch, tokenizer, model, device, loader):\n",
        "    model.eval()\n",
        "    predictions = []\n",
        "    with torch.no_grad():\n",
        "        for _, data in enumerate(loader, 0):\n",
        "            ids = data['source_ids'].to(device, dtype = torch.long)\n",
        "            mask = data['source_mask'].to(device, dtype = torch.long)\n",
        "\n",
        "            generated_ids = model.generate(\n",
        "                input_ids = ids,\n",
        "                attention_mask = mask, \n",
        "                max_length=150, \n",
        "                num_beams=2,\n",
        "                repetition_penalty=2.5, \n",
        "                length_penalty=1.0, \n",
        "                early_stopping=True\n",
        "                )\n",
        "            preds = [tokenizer.decode(g, skip_special_tokens=True, clean_up_tokenization_spaces=True) for g in generated_ids]\n",
        "            if _%100==0:\n",
        "                print(f'Completed {_}')\n",
        "    return preds"
      ],
      "execution_count": 7,
      "outputs": []
    },
    {
      "cell_type": "code",
      "metadata": {
        "id": "xwDoenm_D34Z"
      },
      "source": [
        "def train(epoch, tokenizer, model, device, loader, optimizer):\n",
        "    model.train()\n",
        "    epoch_loss = 0\n",
        "    for _,data in enumerate(loader, 0):\n",
        "        y = data['target_ids'].to(device, dtype = torch.long)\n",
        "        y_ids = y[:, :-1].contiguous()\n",
        "        lm_labels = y[:, 1:].clone().detach()\n",
        "        lm_labels[y[:, 1:] == tokenizer.pad_token_id] = -100\n",
        "        ids = data['source_ids'].to(device, dtype = torch.long)\n",
        "        mask = data['source_mask'].to(device, dtype = torch.long)\n",
        "\n",
        "        outputs = model(input_ids = ids, attention_mask = mask, decoder_input_ids=y_ids, lm_labels=lm_labels)\n",
        "        loss = outputs[0]\n",
        "        \n",
        "        optimizer.zero_grad()\n",
        "        loss.backward()\n",
        "        optimizer.step()\n",
        "        epoch_loss += loss.item()\n",
        "    return epoch_loss / len(loader)"
      ],
      "execution_count": 8,
      "outputs": []
    },
    {
      "cell_type": "code",
      "metadata": {
        "id": "ksW9Z7SwP3SQ"
      },
      "source": [
        "def evaluate(epoch, tokenizer, model, device, loader):\n",
        "    model.eval()\n",
        "    predictions = []\n",
        "    actuals = []\n",
        "    epoch_loss = 0\n",
        "    with torch.no_grad():\n",
        "        for _, data in enumerate(loader, 0):\n",
        "            y = data['target_ids'].to(device, dtype = torch.long)\n",
        "            yt_ids = y[:, :-1].contiguous()\n",
        "            lm_labels = y[:, 1:].clone().detach()\n",
        "            lm_labels[y[:, 1:] == tokenizer.pad_token_id] = -100\n",
        "            ids = data['source_ids'].to(device, dtype = torch.long)\n",
        "            mask = data['source_mask'].to(device, dtype = torch.long)\n",
        "\n",
        "            preds = model(input_ids = ids,attention_mask = mask,decoder_input_ids=yt_ids, lm_labels=lm_labels)\n",
        "            # generated_ids = model.generate(\n",
        "            #     input_ids = ids,\n",
        "            #     attention_mask = mask)\n",
        "            val_loss = preds[0]\n",
        "            epoch_loss += val_loss.item()\n",
        "            # preds = [tokenizer.decode(g, skip_special_tokens=True, clean_up_tokenization_spaces=True) for g in generated_ids]\n",
        "            # target = [tokenizer.decode(t, skip_special_tokens=True, clean_up_tokenization_spaces=True)for t in y]\n",
        "            # if _%100==0:\n",
        "            #     print(f'Completed {_}')\n",
        "\n",
        "            # predictions.extend(preds)\n",
        "            # actuals.extend(target)\n",
        "    return epoch_loss / len(loader)#,predictions, actuals"
      ],
      "execution_count": 26,
      "outputs": []
    },
    {
      "cell_type": "code",
      "metadata": {
        "id": "1hn0aZB3ETmk"
      },
      "source": [
        "def validate(epoch, tokenizer, model, device, loader):\n",
        "    model.eval()\n",
        "    predictions = []\n",
        "    actuals = []\n",
        "    with torch.no_grad():\n",
        "        for _, data in enumerate(loader, 0):\n",
        "            y = data['target_ids'].to(device, dtype = torch.long)\n",
        "            ids = data['source_ids'].to(device, dtype = torch.long)\n",
        "            mask = data['source_mask'].to(device, dtype = torch.long)\n",
        "\n",
        "            generated_ids = model.generate(\n",
        "                input_ids = ids,\n",
        "                attention_mask = mask, \n",
        "                max_length=150, \n",
        "                num_beams=2,\n",
        "                repetition_penalty=2.5, \n",
        "                length_penalty=1.0, \n",
        "                early_stopping=True\n",
        "                )\n",
        "            preds = [tokenizer.decode(g, skip_special_tokens=True, clean_up_tokenization_spaces=True) for g in generated_ids]\n",
        "            target = [tokenizer.decode(t, skip_special_tokens=True, clean_up_tokenization_spaces=True)for t in y]\n",
        "            if _%100==0:\n",
        "                print(f'Completed {_}')\n",
        "\n",
        "            predictions.extend(preds)\n",
        "            actuals.extend(target)\n",
        "    return predictions, actuals"
      ],
      "execution_count": 27,
      "outputs": []
    },
    {
      "cell_type": "code",
      "metadata": {
        "id": "HBSYvff7k3kc"
      },
      "source": [
        "def epoch_time(start_time, end_time):\n",
        "    elapsed_time = end_time - start_time\n",
        "    elapsed_mins = int(elapsed_time / 60)\n",
        "    elapsed_secs = int(elapsed_time - (elapsed_mins * 60))\n",
        "    return elapsed_mins, elapsed_secs"
      ],
      "execution_count": 28,
      "outputs": []
    },
    {
      "cell_type": "code",
      "metadata": {
        "id": "0JuYJti8k3ke"
      },
      "source": [
        "from torchtext.data.metrics import bleu_score"
      ],
      "execution_count": 29,
      "outputs": []
    },
    {
      "cell_type": "code",
      "metadata": {
        "id": "o8Pp8Sd3vlN_"
      },
      "source": [
        "import time"
      ],
      "execution_count": 30,
      "outputs": []
    },
    {
      "cell_type": "code",
      "metadata": {
        "colab": {
          "base_uri": "https://localhost:8080/"
        },
        "id": "mQuFEBYwwpGc",
        "outputId": "42b020b6-d82f-4611-ee80-e47cf2cfefee"
      },
      "source": [
        "pd.read_csv('drive/MyDrive/yorubatoEN/Train.csv')['Yoruba'].apply(len).describe()"
      ],
      "execution_count": 31,
      "outputs": [
        {
          "output_type": "execute_result",
          "data": {
            "text/plain": [
              "count    10054.000000\n",
              "mean        99.887607\n",
              "std         77.817411\n",
              "min          4.000000\n",
              "25%         41.000000\n",
              "50%         78.000000\n",
              "75%        141.000000\n",
              "max       1183.000000\n",
              "Name: Yoruba, dtype: float64"
            ]
          },
          "metadata": {
            "tags": []
          },
          "execution_count": 31
        }
      ]
    },
    {
      "cell_type": "code",
      "metadata": {
        "colab": {
          "base_uri": "https://localhost:8080/"
        },
        "id": "GAP1kqGGKnBu",
        "outputId": "5f44fcc5-2f72-4e4f-c11a-117c120cea22"
      },
      "source": [
        "pd.read_csv('drive/MyDrive/yorubatoEN/Test.csv')['Yoruba'].apply(len).describe()"
      ],
      "execution_count": 32,
      "outputs": [
        {
          "output_type": "execute_result",
          "data": {
            "text/plain": [
              "count    6816.00000\n",
              "mean      100.87632\n",
              "std        67.69594\n",
              "min         7.00000\n",
              "25%        49.00000\n",
              "50%        85.00000\n",
              "75%       135.00000\n",
              "max       605.00000\n",
              "Name: Yoruba, dtype: float64"
            ]
          },
          "metadata": {
            "tags": []
          },
          "execution_count": 32
        }
      ]
    },
    {
      "cell_type": "code",
      "metadata": {
        "colab": {
          "base_uri": "https://localhost:8080/"
        },
        "id": "6Te6t7DLEf3H",
        "scrolled": true,
        "outputId": "9c8f08d4-b422-4e99-ca58-f8308eae8e16"
      },
      "source": [
        "import math\n",
        "# from transformers import MT5ForConditionalGeneration,MT5Tokenizer\n",
        "TRAIN_BATCH_SIZE = 4    # input batch size for training (default: 64)\n",
        "VALID_BATCH_SIZE = 2    # input batch size for testing (default: 1000)\n",
        "TRAIN_EPOCHS = 2        # number of epochs to train (default: 10)\n",
        "VAL_EPOCHS = 1 \n",
        "LEARNING_RATE = 1e-4    # learning rate (default: 0.01)\n",
        "SEED = 2020               # random seed (default: 2020)\n",
        "MAX_LEN = 150 \n",
        "import random\n",
        "# Set random seeds and deterministic pytorch for reproducibility\n",
        "random.seed(SEED)\n",
        "np.random.seed(SEED)\n",
        "torch.manual_seed(SEED)\n",
        "torch.backends.cudnn.deterministic = True\n",
        "torch.backends.cudnn.benchmark = False\n",
        "torch.cuda.manual_seed_all(SEED)\n",
        "\n",
        "# tokenzier for encoding the text\n",
        "tokenizer = T5Tokenizer.from_pretrained(\"t5-base\")\n",
        "\n",
        "# Importing and Pre-Processing the domain data\n",
        "# Selecting the needed columns only. \n",
        "# Adding the summarzie text in front of the text. This is to format the dataset similar to how T5 model was trained for summarization task. \n",
        "df = pd.read_csv('drive/MyDrive/yorubatoEN/Train.csv')\n",
        "inf_data = pd.read_csv('drive/MyDrive/yorubatoEN/Test.csv')\n",
        "df = df[['Yoruba','English']]\n",
        "df.Yoruba = 'translate: ' + df.Yoruba\n",
        "print(df.head())\n",
        "\n",
        "\n",
        "# Creation of Dataset and Dataloader\n",
        "# Defining the train size. So 80% of the data will be used for training and the rest will be used for validation. \n",
        "train_size = 0.95\n",
        "train_dataset=df.sample(frac=train_size, random_state = SEED).reset_index(drop=True)\n",
        "val_dataset=df.drop(train_dataset.index).reset_index(drop=True)\n",
        "\n",
        "\n",
        "print(\"FULL Dataset: {}\".format(df.shape))\n",
        "print(\"TRAIN Dataset: {}\".format(train_dataset.shape))\n",
        "print(\"TEST Dataset: {}\".format(val_dataset.shape))\n",
        "\n",
        "\n",
        "# Creating the Training and Validation dataset for further creation of Dataloader\n",
        "training_set = CustomDataset(train_dataset, tokenizer, MAX_LEN, MAX_LEN)\n",
        "val_set = CustomDataset(val_dataset, tokenizer, MAX_LEN, MAX_LEN)\n",
        "inf_set = Inference(inf_data,tokenizer,MAX_LEN)\n",
        "\n",
        "# Defining the parameters for creation of dataloaders\n",
        "train_params = {\n",
        "    'batch_size': TRAIN_BATCH_SIZE,\n",
        "    'shuffle': True,\n",
        "    'num_workers': 0\n",
        "    }\n",
        "\n",
        "val_params = {\n",
        "    'batch_size': VALID_BATCH_SIZE,\n",
        "    'shuffle': False,\n",
        "    'num_workers': 0\n",
        "    }\n",
        "\n",
        "# Creation of Dataloaders for testing and validation. This will be used down for training and validation stage for the model.\n",
        "training_loader = DataLoader(training_set, **train_params)\n",
        "val_loader = DataLoader(val_set, **val_params)\n",
        "inf_loader = DataLoader(inf_set)\n",
        "\n",
        "\n",
        "# Defining the model. We are using t5-base model and added a Language model layer on top for generation of Summary. \n",
        "# Further this model is sent to device (GPU/TPU) for using the hardware.\n",
        "model = T5ForConditionalGeneration.from_pretrained(\"t5-base\")\n",
        "model = model.to(device)\n",
        "\n",
        "# Defining the optimizer that will be used to tune the weights of the network in the training session. \n",
        "optimizer = torch.optim.Adam(params =  model.parameters(), lr=LEARNING_RATE)\n",
        "\n",
        "# Training loop\n",
        "print('Initiating Fine-Tuning for the model on our dataset')\n",
        "best_valid_score = float('-inf')\n",
        "start_time = time.time()\n",
        "for epoch in range(TRAIN_EPOCHS):\n",
        "    train_loss= train(epoch, tokenizer, model, device, training_loader, optimizer)\n",
        "    valid_loss = evaluate(epoch, tokenizer, model, device, val_loader)\n",
        "    # valid_score = bleu_score(predictions, actuals)\n",
        "    end_time = time.time()\n",
        "\n",
        "    epoch_mins, epoch_secs = epoch_time(start_time, end_time)\n",
        "    torch.save(model.state_dict(), 't5.pt_{}'.format(epoch))\n",
        "    print(f'Epoch: {epoch+1:02} | Time: {epoch_mins}m {epoch_secs}s')\n",
        "    print(f'\\tTrain Loss: {train_loss:.3f} | Train PPL: {math.exp(train_loss):7.3f}')\n",
        "    print(f'\\tVal Loss: {valid_loss:.3f}' )#| Val Bleu: {Bleu_score:7.3f}')\n",
        "    # print(f'Valid Bleu: {valid_scorre}')"
      ],
      "execution_count": 36,
      "outputs": [
        {
          "output_type": "stream",
          "text": [
            "                                              Yoruba                                            English\n",
            "0  translate: A ṣètò Ìgbìmọ̀ Tó Ń Ṣètò Ìrànwọ́ Ní...  A Disaster Relief Committee was formed to orga...\n",
            "1  translate: Ìrọ̀lẹ́ May 22, 2018 ni wọ́n fàṣẹ ọ...  Brother Solovyev was arrested on the evening o...\n",
            "2            translate: Iléeṣẹ́ Creative Commons náà                  Creative Commons the Organization\n",
            "3  translate: Pè̩lú Egypt, Morocco àti Tunisia tí...  With Egypt, Morocco and Tunisia out of the Wor...\n",
            "4  translate: Adájọ́ àgbà lórílẹ̀ èdè Náíjíríà (A...  The Attorney General of the Federation, Justic...\n",
            "FULL Dataset: (10054, 2)\n",
            "TRAIN Dataset: (9551, 2)\n",
            "TEST Dataset: (503, 2)\n",
            "Initiating Fine-Tuning for the model on our dataset\n",
            "Epoch: 01 | Time: 14m 55s\n",
            "\tTrain Loss: 3.437 | Train PPL:  31.091\n",
            "\tVal Loss: 2.765\n",
            "Epoch: 02 | Time: 29m 53s\n",
            "\tTrain Loss: 2.796 | Train PPL:  16.381\n",
            "\tVal Loss: 2.300\n"
          ],
          "name": "stdout"
        }
      ]
    },
    {
      "cell_type": "code",
      "metadata": {
        "colab": {
          "base_uri": "https://localhost:8080/",
          "height": 131
        },
        "id": "0z49EGkuP3Si",
        "outputId": "15363ce4-e23c-4624-bbcb-b2fad97e86ea"
      },
      "source": [
        "train_loss= train(epoch, tokenizer, model, device, training_loader, optimizer)\n",
        "        valid_loss,predictions, actuals = validate(epoch, tokenizer, model, device, val_loader)\n",
        "        Bleu_score = bleu_score(predictions, actuals)\n",
        "        end_time = time.time()\n",
        "    \n",
        "        epoch_mins, epoch_secs = epoch_time(start_time, end_time)\n",
        "        if valid_scorre > best_valid_score:\n",
        "            best_valid_loss = valid_loss\n",
        "            torch.save(model.state_dict(), 'tut6-model.pt')\n",
        "        print(f'Epoch: {epoch+1:02} | Time: {epoch_mins}m {epoch_secs}s')\n",
        "        print(f'\\tTrain Loss: {train_loss:.3f} | Train PPL: {math.exp(train_loss):7.3f}')\n",
        "        print(f'\\tVal Loss: {train_loss:.3f} | Val Bleu: {Bleu_score:7.3f}')"
      ],
      "execution_count": 17,
      "outputs": [
        {
          "output_type": "error",
          "ename": "IndentationError",
          "evalue": "ignored",
          "traceback": [
            "\u001b[0;36m  File \u001b[0;32m\"<ipython-input-17-b8dc2361ede2>\"\u001b[0;36m, line \u001b[0;32m2\u001b[0m\n\u001b[0;31m    valid_loss,predictions, actuals = validate(epoch, tokenizer, model, device, val_loader)\u001b[0m\n\u001b[0m    ^\u001b[0m\n\u001b[0;31mIndentationError\u001b[0m\u001b[0;31m:\u001b[0m unexpected indent\n"
          ]
        }
      ]
    },
    {
      "cell_type": "code",
      "metadata": {
        "id": "BO2YFvl4TdTc"
      },
      "source": [
        "predictions, actuals = validate(epoch, tokenizer, model, device, val_loader)\n",
        "valid_scorre = bleu_score(predictions, actuals)"
      ],
      "execution_count": null,
      "outputs": []
    },
    {
      "cell_type": "code",
      "metadata": {
        "id": "8ByBWSvBcT2k"
      },
      "source": [
        "from transformers import MT5Tokenizer"
      ],
      "execution_count": null,
      "outputs": []
    },
    {
      "cell_type": "code",
      "metadata": {
        "colab": {
          "base_uri": "https://localhost:8080/",
          "height": 164,
          "referenced_widgets": [
            "bd915ff1b42747f5a60b3dbb9160357b",
            "9c4299cef85c4e78b29f5dd62c1bc7b8",
            "5a48add491714b1c82e7b93597982693",
            "109d6258abfe4726bc7baa8d21a2d6cf",
            "0502e7dbc362469b8ab735caa0842d22",
            "455f24effb0c44348c863a16308ef7ed",
            "2aaf4337e6794b5695c40368f0c84a75",
            "c6e1d44f20b64fc68f385b02c5efda33",
            "9f22eeed714b4491b95ef6e888505486",
            "fc25f82fe49b43e483a2e72b4c83d0f0",
            "8437b39366b749a78f7eb8ccf90c37a9",
            "2ca7fc72c744425b9d39264e7845c8f3",
            "1d41872bce8447f8bf2fccb1d6321efd",
            "e28f5df1de174cb0bf99a840391fbf92",
            "5c2780639a0b4b29a26aacfb59241bae",
            "af228ffec5484c438a9eb3f19931a28b",
            "d9f26734a3cd4fc6a86d3d8ce52542e3",
            "81570cb7cbec4ec29dc41e655e2bfae1",
            "38d8bf13d72e4b9b82e0d5153c83cd1f",
            "09d4d5dd021a4fab910953351ca555b0",
            "ba0bee484a8a424c8b3a0f3219c398a9",
            "f1079850841f44e6ac7c1cdf723534e1",
            "8f76cb86a88547fcaa951bd4c6477753",
            "86daa8a78cb944c8a10ba04f55dc7500"
          ]
        },
        "id": "ULVtsHIxcKHv",
        "outputId": "40629787-4da1-41ea-b33b-1ae4e00ac299"
      },
      "source": [
        "tokenizer = MT5Tokenizer.from_pretrained(\"google/mt5-xxl\")"
      ],
      "execution_count": null,
      "outputs": [
        {
          "output_type": "display_data",
          "data": {
            "application/vnd.jupyter.widget-view+json": {
              "model_id": "bd915ff1b42747f5a60b3dbb9160357b",
              "version_major": 2,
              "version_minor": 0
            },
            "text/plain": [
              "HBox(children=(FloatProgress(value=0.0, description='Downloading', max=4309802.0, style=ProgressStyle(descript…"
            ]
          },
          "metadata": {
            "tags": []
          }
        },
        {
          "output_type": "stream",
          "text": [
            "\n"
          ],
          "name": "stdout"
        },
        {
          "output_type": "display_data",
          "data": {
            "application/vnd.jupyter.widget-view+json": {
              "model_id": "9f22eeed714b4491b95ef6e888505486",
              "version_major": 2,
              "version_minor": 0
            },
            "text/plain": [
              "HBox(children=(FloatProgress(value=0.0, description='Downloading', max=65.0, style=ProgressStyle(description_w…"
            ]
          },
          "metadata": {
            "tags": []
          }
        },
        {
          "output_type": "stream",
          "text": [
            "\n"
          ],
          "name": "stdout"
        },
        {
          "output_type": "display_data",
          "data": {
            "application/vnd.jupyter.widget-view+json": {
              "model_id": "d9f26734a3cd4fc6a86d3d8ce52542e3",
              "version_major": 2,
              "version_minor": 0
            },
            "text/plain": [
              "HBox(children=(FloatProgress(value=0.0, description='Downloading', max=376.0, style=ProgressStyle(description_…"
            ]
          },
          "metadata": {
            "tags": []
          }
        },
        {
          "output_type": "stream",
          "text": [
            "\n"
          ],
          "name": "stdout"
        }
      ]
    },
    {
      "cell_type": "code",
      "metadata": {
        "id": "p3X9WQjSWPuj"
      },
      "source": [
        "predictions,actuals"
      ],
      "execution_count": null,
      "outputs": []
    },
    {
      "cell_type": "code",
      "metadata": {
        "id": "3W1X9oRgwO0q",
        "outputId": "12fdfbb4-b67d-451f-9cb8-778e5df11805",
        "colab": {
          "base_uri": "https://localhost:8080/"
        }
      },
      "source": [
        "inf_data = pd.read_csv('drive/MyDrive/yorubatoEN/Test.csv')\r\n",
        "inf_data.Yoruba = 'translate: ' + inf_data.Yoruba\r\n",
        "print(inf_data.head())"
      ],
      "execution_count": 48,
      "outputs": [
        {
          "output_type": "stream",
          "text": [
            "            ID                                             Yoruba\n",
            "0  ID_AAAitMaH  translate: Nínú ìpè kan lẹ́yìn ìgbà náà, wọ́n ...\n",
            "1  ID_AAKKdQwr  translate: Nítorí kò sí nǹkan tí ọkùnrin ò lè ...\n",
            "2  ID_ABgAyEOp       translate: Bí i kó pariwo. Kí ó kígbe mọ́ ẹ?\n",
            "3  ID_ACFgfKQs  translate: Tí ó ń lé e lọ sọ́nà etí odò Akókur...\n",
            "4  ID_ACNPmlhf  translate: Èṣúńiyì mọ̀ iṣẹ́ rẹ̀ dunjú. Màmá ti...\n"
          ],
          "name": "stdout"
        }
      ]
    },
    {
      "cell_type": "code",
      "metadata": {
        "id": "eNnaG1TVuvAn"
      },
      "source": [
        "inf_set = Inference(inf_data,tokenizer,MAX_LEN)\r\n",
        "inf_loader = DataLoader(inf_set,shuffle=False,batch_size=32)"
      ],
      "execution_count": 49,
      "outputs": []
    },
    {
      "cell_type": "code",
      "metadata": {
        "id": "soHn6ohwxUaC",
        "outputId": "5bf6ee5b-1c96-4805-dca3-b137028dc3e4",
        "colab": {
          "base_uri": "https://localhost:8080/"
        }
      },
      "source": [
        "model.eval()\r\n",
        "predictions = []\r\n",
        "with torch.no_grad():\r\n",
        "  for _, data in enumerate(inf_loader, 0):\r\n",
        "    ids = data['source_ids'].to(device, dtype = torch.long)\r\n",
        "    mask = data['source_mask'].to(device, dtype = torch.long)\r\n",
        "\r\n",
        "    generated_ids = model.generate(\r\n",
        "        input_ids = ids,\r\n",
        "        do_sample=True, \r\n",
        "        \r\n",
        "        top_k=50,\r\n",
        "        early_stopping=True\r\n",
        "        )\r\n",
        "    preds = [tokenizer.decode(g, skip_special_tokens=True, clean_up_tokenization_spaces=True) for g in generated_ids]\r\n",
        "    if _%100==0:\r\n",
        "        print(f'Completed {_}')\r\n",
        "\r\n",
        "    predictions.extend(preds)"
      ],
      "execution_count": 50,
      "outputs": [
        {
          "output_type": "stream",
          "text": [
            "Completed 0\n",
            "Completed 100\n",
            "Completed 200\n"
          ],
          "name": "stdout"
        }
      ]
    },
    {
      "cell_type": "code",
      "metadata": {
        "id": "9eUNmm6gygmb"
      },
      "source": [
        "inf_data['English'] = predictions\r\n",
        "inf_data[['ID','English']].to_csv('t5yor.csv',index=False)"
      ],
      "execution_count": 52,
      "outputs": []
    },
    {
      "cell_type": "code",
      "metadata": {
        "id": "FbIRVcVek3kk"
      },
      "source": [
        "for epoch in range(VAL_EPOCHS):\n",
        "    predict = infer(epoch, tokenizer, model, device, inf_loader)\n",
        "    ab_df = pd.DataFrame({'Generated Text':predict})\n",
        "    ab_df.to_csv('abpredictions.csv')"
      ],
      "execution_count": null,
      "outputs": []
    },
    {
      "cell_type": "code",
      "metadata": {
        "id": "Fz_G1RBZVr3O"
      },
      "source": [
        "model.eval()\n",
        "predictions = []\n",
        "actuals = []\n",
        "with torch.no_grad():\n",
        "  for _, data in enumerate(val_loader, 0):\n",
        "    y = data['target_ids'].to(device, dtype = torch.long)\n",
        "    ids = data['source_ids'].to(device, dtype = torch.long)\n",
        "    mask = data['source_mask'].to(device, dtype = torch.long)\n",
        "\n",
        "    generated_ids = model.generate(\n",
        "        input_ids = ids,\n",
        "        do_sample=True, \n",
        "        \n",
        "        top_k=50,\n",
        "        early_stopping=True\n",
        "        )\n",
        "    preds = [tokenizer.decode(g, skip_special_tokens=True, clean_up_tokenization_spaces=True) for g in generated_ids]\n",
        "    target = [tokenizer.decode(t, skip_special_tokens=True, clean_up_tokenization_spaces=True)for t in y]\n",
        "    if _%100==0:\n",
        "        print(f'Completed {_}')\n",
        "\n",
        "    predictions.extend(preds)\n",
        "    actuals.extend(target)\n",
        "    # print(bleu_score(actuals,predictions))"
      ],
      "execution_count": null,
      "outputs": []
    }
  ]
}